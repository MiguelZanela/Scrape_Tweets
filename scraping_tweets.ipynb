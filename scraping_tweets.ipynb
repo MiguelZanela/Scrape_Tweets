{
 "cells": [
  {
   "cell_type": "code",
   "execution_count": null,
   "id": "86d5c2cc",
   "metadata": {},
   "outputs": [],
   "source": [
    "# install dependencies if not installed\n",
    "# !pip install snscrape\n",
    "# !pip install pandas\n",
    "\n",
    "import snscrape\n",
    "import snscrape.modules.twitter as sntwitter\n",
    "import pandas as pd\n",
    "\n",
    "# enter the number of tweets you want to retrieve by the term\n",
    "limit = 100\n",
    "\n",
    "# enter the period you want to search\n",
    "# until = until this data\n",
    "# since = start data\n",
    "date = \"until:2022-06-01 since:2010-01-01\"\n",
    "\n",
    "# enter the hashtags you want to search for\n",
    "hashtags = [\"netflix\", \"netflixusa\", \"netflixbrasil\"]\n",
    "\n",
    "\n",
    "# variables\n",
    "querys = []\n",
    "\n",
    "# create the query with the terms and data entered by the user\n",
    "for i in range(0, len(hashtags)):\n",
    "    querys.append(hashtags[i]+\" \"+date)\n",
    "\n",
    "# do the search and save it in a single dataframe\n",
    "for i in range(0, len(querys)):\n",
    "    tweets = []\n",
    "    df_aux = pd.DataFrame()\n",
    "    for tweet in sntwitter.TwitterHashtagScraper(querys[i]).get_items():\n",
    "        if len(tweets) == limit:\n",
    "            break\n",
    "        else:\n",
    "            tweets.append([tweet.date, tweet.user.username, tweet.content])\n",
    "            \n",
    "    df_aux = pd.DataFrame(tweets, columns=['Date', 'User', 'Tweet'])\n",
    "    df_tweets = pd.concat([df_aux, df_tweets], ignore_index=True)\n",
    "\n",
    "df_tweets.head(10)\n",
    "\n",
    "# to save to csv\n",
    "# df_tweets.to_csv('tweets.csv')"
   ]
  }
 ],
 "metadata": {
  "interpreter": {
   "hash": "8f1ce1086d2f6c02a53e250c2f887551bffde74d546fcc653ec29f93a533c281"
  },
  "kernelspec": {
   "display_name": "Python 3.9.13 64-bit (windows store)",
   "language": "python",
   "name": "python3"
  },
  "language_info": {
   "codemirror_mode": {
    "name": "ipython",
    "version": 3
   },
   "file_extension": ".py",
   "mimetype": "text/x-python",
   "name": "python",
   "nbconvert_exporter": "python",
   "pygments_lexer": "ipython3",
   "version": "3.9.13"
  }
 },
 "nbformat": 4,
 "nbformat_minor": 5
}
